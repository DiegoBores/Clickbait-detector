{
  "nbformat": 4,
  "nbformat_minor": 0,
  "metadata": {
    "colab": {
      "name": "Detector de Clickbait.ipynb",
      "provenance": [],
      "authorship_tag": "ABX9TyOVxbmdZyCAqfiCWP7vQYO9",
      "include_colab_link": true
    },
    "kernelspec": {
      "name": "python3",
      "display_name": "Python 3"
    },
    "language_info": {
      "name": "python"
    }
  },
  "cells": [
    {
      "cell_type": "markdown",
      "metadata": {
        "id": "view-in-github",
        "colab_type": "text"
      },
      "source": [
        "<a href=\"https://colab.research.google.com/github/DiegoBores/Clickbait-detector/blob/main/Detector_de_Clickbait.ipynb\" target=\"_parent\"><img src=\"https://colab.research.google.com/assets/colab-badge.svg\" alt=\"Open In Colab\"/></a>"
      ]
    },
    {
      "cell_type": "markdown",
      "metadata": {
        "id": "aUS1JjGyjGdo"
      },
      "source": [
        "# Setup"
      ]
    },
    {
      "cell_type": "markdown",
      "metadata": {
        "id": "NFu-xBGEchEO"
      },
      "source": [
        "Instalamos la biblioteca de TensorFlow, y los modelos de la versión 2.7.0, e importamos las librerias que vamos a utilizar"
      ]
    },
    {
      "cell_type": "code",
      "execution_count": null,
      "metadata": {
        "id": "17cdrczLIpip"
      },
      "outputs": [],
      "source": [
        "!pip install tensorflow"
      ]
    },
    {
      "cell_type": "code",
      "execution_count": null,
      "metadata": {
        "id": "k7WXglbkSODr"
      },
      "outputs": [],
      "source": [
        "!pip install -q tf-models-official==2.7.0"
      ]
    },
    {
      "cell_type": "code",
      "execution_count": null,
      "metadata": {
        "id": "IaE1HGdwH-dP"
      },
      "outputs": [],
      "source": [
        "import tensorflow as tf\n",
        "import tensorflow_hub as hub\n",
        "import tensorflow_text as text\n",
        "import pandas as pd\n",
        "from official.nlp import optimization #for  AdamW optimizer\n",
        "from sklearn.model_selection import train_test_split\n",
        "import matplotlib.pyplot as plt\n",
        "from sklearn.dummy import DummyClassifier\n",
        "from sklearn.model_selection import cross_val_score\n"
      ]
    },
    {
      "cell_type": "markdown",
      "metadata": {
        "id": "zBKGY4VUjWSs"
      },
      "source": [
        "# Dataset y análisis descriptivo"
      ]
    },
    {
      "cell_type": "markdown",
      "metadata": {
        "id": "JmxcmSIyczVC"
      },
      "source": [
        "En primer lugar obtenemos el dataset desde los enlaces correspondientes. Se trata de dos ficheros .csv que se encuentran en :\n",
        "\n",
        "\n",
        "*   Conjunto de entrenamiento: https://ml-coding-test.s3.eu-west-1.amazonaws.com/webis_train.csv\n",
        "\n",
        "*   Conjunto de test: https://ml-coding-test.s3.eu-west-1.amazonaws.com/webis_test.csv\n",
        "\n",
        "\n"
      ]
    },
    {
      "cell_type": "code",
      "execution_count": null,
      "metadata": {
        "colab": {
          "base_uri": "https://localhost:8080/"
        },
        "id": "h38KU5_NJJ5n",
        "outputId": "ab8c1179-8b60-47f9-b8e0-7106b1e9d4a7"
      },
      "outputs": [
        {
          "output_type": "stream",
          "name": "stdout",
          "text": [
            "Downloading data from https://ml-coding-test.s3.eu-west-1.amazonaws.com/webis_train.csv\n",
            "93478912/93472103 [==============================] - 5s 0us/step\n",
            "93487104/93472103 [==============================] - 5s 0us/step\n",
            "Downloading data from https://ml-coding-test.s3.eu-west-1.amazonaws.com/webis_test.csv\n",
            "90120192/90117240 [==============================] - 4s 0us/step\n",
            "90128384/90117240 [==============================] - 4s 0us/step\n"
          ]
        }
      ],
      "source": [
        "#Obtenemos las URL y los path relativos correspondientes a los dataset de entrenamiento y de test\n",
        "TRAIN_DATA_URL = \"https://ml-coding-test.s3.eu-west-1.amazonaws.com/webis_train.csv\"#URL del conjunto de entrenamiento\n",
        "TEST_DATA_URL = \"https://ml-coding-test.s3.eu-west-1.amazonaws.com/webis_test.csv\"#URL del conjunto de test\n",
        "\n",
        "#Descargamos los datasets\n",
        "train_file_path = tf.keras.utils.get_file(\"webis_train.csv\", TRAIN_DATA_URL,\n",
        "                                          cache_dir='.', cache_subdir='datasets')\n",
        "test_file_path = tf.keras.utils.get_file('webis_test.csv', TEST_DATA_URL,\n",
        "                                         cache_dir='.', cache_subdir='datasets')"
      ]
    },
    {
      "cell_type": "code",
      "execution_count": null,
      "metadata": {
        "id": "tqucWJIjImC2"
      },
      "outputs": [],
      "source": [
        "#Leemos los csv y los almacenamos en sendos dataframes de pandas\n",
        "train_df = pd.read_csv(train_file_path) \n",
        "test_df = pd.read_csv(test_file_path)"
      ]
    },
    {
      "cell_type": "markdown",
      "metadata": {
        "id": "Z0rmp6Bqs7Kd"
      },
      "source": [
        "\n",
        "\n",
        "> # Análisis del contenido \n",
        "\n",
        "\n",
        "El dataset que vamos a utilizar cuenta con varias columnas correspondientes a la información de cada tweet (target), incluyendo contenido multimedia e información de los enlaces incluidos en el post, y varias columnas correspondientes a los datos relativos a la clasificaion (truth). De acuerdo con https://webis.de/data/webis-clickbait-17.html , la clasificación se ha realizado mediante una escala de 4 valores (0: no es clikbait, 0.33: ligeramente clickbait, 0.66: considerablemente clickbait, 1 altamente clickbait), por cinco observadores. Por lo tanto, se decide que es clickbait si la media de los valores indicados por los observadores es mayor que 0.5.\n",
        "\n",
        "\n",
        "\n"
      ]
    },
    {
      "cell_type": "code",
      "execution_count": null,
      "metadata": {
        "colab": {
          "base_uri": "https://localhost:8080/",
          "height": 546
        },
        "id": "FP96L5pGJuRS",
        "outputId": "05ea5b64-106b-4e47-e62e-95caa30b5b30"
      },
      "outputs": [
        {
          "output_type": "execute_result",
          "data": {
            "text/plain": [
              "       Unnamed: 0 postMedia  \\\n",
              "3875         3875        []   \n",
              "4004         4004        []   \n",
              "18509       18509        []   \n",
              "7893         7893        []   \n",
              "11371       11371        []   \n",
              "\n",
              "                                                postText                  id  \\\n",
              "3875   Mike Rowe to flag-burning students: If you hat...  804717925584306176   \n",
              "4004   Deviate: The Science of Seeing Differently – w...  855815487099416576   \n",
              "18509  Can cricket be saved from itself? How the ICC ...  832186276895944704   \n",
              "7893   Doctor accused of mutilating genitals of young...  856470650856382464   \n",
              "11371    Nigeria's starving children who fled Boko Haram  814169646857330688   \n",
              "\n",
              "                                          targetCaptions  \\\n",
              "3875                              ['Johnson', 'Johnson']   \n",
              "4004   ['Lotto thinks our perceptions terminate at th...   \n",
              "18509  ['Cricket', 'Cricket', 'MS Dhoni of India', 'E...   \n",
              "7893   ['FBI agents leave a clinic in Livonia, Mich.,...   \n",
              "11371  [\"Nigeria's starving children\", 'Hundreds of t...   \n",
              "\n",
              "                                        targetParagraphs  \\\n",
              "3875   ['LOOK: Jesus Statue Is All That\\'s Left of TN...   \n",
              "4004   ['A neuroscientist argues that all experience ...   \n",
              "18509  ['Nestled amid skyscrapers in the desert, an u...   \n",
              "7893   ['The attorney for a Detroit-area doctor accus...   \n",
              "11371  ['Nigeria has been hit by the biggest humanita...   \n",
              "\n",
              "                                             targetTitle  \\\n",
              "3875   Mike Rowe to Flag-Burning Students: If You Hat...   \n",
              "4004   Deviate: The Science of Seeing Differently by ...   \n",
              "18509  Can cricket be saved from itself? How the ICC ...   \n",
              "7893   Doctor accused of mutilating genitals of young...   \n",
              "11371    Nigeria's starving children who fled Boko Haram   \n",
              "\n",
              "                        postTimestamp  \\\n",
              "3875   Fri Dec 02 16:04:39 +0000 2016   \n",
              "4004   Sat Apr 22 16:08:07 +0000 2017   \n",
              "18509  Thu Feb 16 11:14:04 +0000 2017   \n",
              "7893   Mon Apr 24 11:31:30 +0000 2017   \n",
              "11371  Wed Dec 28 18:02:25 +0000 2016   \n",
              "\n",
              "                                          targetKeywords  \\\n",
              "3875                                                 NaN   \n",
              "4004   Science and nature,Philosophy,Books,Culture,Ne...   \n",
              "18509  International Cricket Council,Australia cricke...   \n",
              "7893                        genital mutilation, Michigan   \n",
              "11371                                                NaN   \n",
              "\n",
              "                                       targetDescription  \\\n",
              "3875   Dirty Jobs host Mike Rowe took to Facebook to ...   \n",
              "4004   A neuroscientist argues that all experience oc...   \n",
              "18509  With skill and appetite growing outside Test-p...   \n",
              "7893   The physician's attorney said the procedure wa...   \n",
              "11371  Children could die of starvation in Nigeria un...   \n",
              "\n",
              "                                          truthJudgments  truthMean  \\\n",
              "3875            [0.0, 0.0, 0.0, 0.0, 0.6666666666000001]   0.133333   \n",
              "4004   [0.6666666666000001, 0.0, 0.33333333330000003,...   0.333333   \n",
              "18509  [0.6666666666000001, 0.33333333330000003, 0.33...   0.400000   \n",
              "7893   [0.0, 0.0, 0.0, 0.33333333330000003, 0.3333333...   0.133333   \n",
              "11371  [0.33333333330000003, 0.6666666666000001, 0.66...   0.600000   \n",
              "\n",
              "         truthClass  truthMedian  truthMode  \n",
              "3875   no-clickbait     0.000000   0.000000  \n",
              "4004   no-clickbait     0.333333   0.333333  \n",
              "18509  no-clickbait     0.333333   0.333333  \n",
              "7893   no-clickbait     0.000000   0.000000  \n",
              "11371     clickbait     0.666667   0.666667  "
            ],
            "text/html": [
              "\n",
              "  <div id=\"df-400d4070-b74a-4f55-91fd-9652936dca70\">\n",
              "    <div class=\"colab-df-container\">\n",
              "      <div>\n",
              "<style scoped>\n",
              "    .dataframe tbody tr th:only-of-type {\n",
              "        vertical-align: middle;\n",
              "    }\n",
              "\n",
              "    .dataframe tbody tr th {\n",
              "        vertical-align: top;\n",
              "    }\n",
              "\n",
              "    .dataframe thead th {\n",
              "        text-align: right;\n",
              "    }\n",
              "</style>\n",
              "<table border=\"1\" class=\"dataframe\">\n",
              "  <thead>\n",
              "    <tr style=\"text-align: right;\">\n",
              "      <th></th>\n",
              "      <th>Unnamed: 0</th>\n",
              "      <th>postMedia</th>\n",
              "      <th>postText</th>\n",
              "      <th>id</th>\n",
              "      <th>targetCaptions</th>\n",
              "      <th>targetParagraphs</th>\n",
              "      <th>targetTitle</th>\n",
              "      <th>postTimestamp</th>\n",
              "      <th>targetKeywords</th>\n",
              "      <th>targetDescription</th>\n",
              "      <th>truthJudgments</th>\n",
              "      <th>truthMean</th>\n",
              "      <th>truthClass</th>\n",
              "      <th>truthMedian</th>\n",
              "      <th>truthMode</th>\n",
              "    </tr>\n",
              "  </thead>\n",
              "  <tbody>\n",
              "    <tr>\n",
              "      <th>3875</th>\n",
              "      <td>3875</td>\n",
              "      <td>[]</td>\n",
              "      <td>Mike Rowe to flag-burning students: If you hat...</td>\n",
              "      <td>804717925584306176</td>\n",
              "      <td>['Johnson', 'Johnson']</td>\n",
              "      <td>['LOOK: Jesus Statue Is All That\\'s Left of TN...</td>\n",
              "      <td>Mike Rowe to Flag-Burning Students: If You Hat...</td>\n",
              "      <td>Fri Dec 02 16:04:39 +0000 2016</td>\n",
              "      <td>NaN</td>\n",
              "      <td>Dirty Jobs host Mike Rowe took to Facebook to ...</td>\n",
              "      <td>[0.0, 0.0, 0.0, 0.0, 0.6666666666000001]</td>\n",
              "      <td>0.133333</td>\n",
              "      <td>no-clickbait</td>\n",
              "      <td>0.000000</td>\n",
              "      <td>0.000000</td>\n",
              "    </tr>\n",
              "    <tr>\n",
              "      <th>4004</th>\n",
              "      <td>4004</td>\n",
              "      <td>[]</td>\n",
              "      <td>Deviate: The Science of Seeing Differently – w...</td>\n",
              "      <td>855815487099416576</td>\n",
              "      <td>['Lotto thinks our perceptions terminate at th...</td>\n",
              "      <td>['A neuroscientist argues that all experience ...</td>\n",
              "      <td>Deviate: The Science of Seeing Differently by ...</td>\n",
              "      <td>Sat Apr 22 16:08:07 +0000 2017</td>\n",
              "      <td>Science and nature,Philosophy,Books,Culture,Ne...</td>\n",
              "      <td>A neuroscientist argues that all experience oc...</td>\n",
              "      <td>[0.6666666666000001, 0.0, 0.33333333330000003,...</td>\n",
              "      <td>0.333333</td>\n",
              "      <td>no-clickbait</td>\n",
              "      <td>0.333333</td>\n",
              "      <td>0.333333</td>\n",
              "    </tr>\n",
              "    <tr>\n",
              "      <th>18509</th>\n",
              "      <td>18509</td>\n",
              "      <td>[]</td>\n",
              "      <td>Can cricket be saved from itself? How the ICC ...</td>\n",
              "      <td>832186276895944704</td>\n",
              "      <td>['Cricket', 'Cricket', 'MS Dhoni of India', 'E...</td>\n",
              "      <td>['Nestled amid skyscrapers in the desert, an u...</td>\n",
              "      <td>Can cricket be saved from itself? How the ICC ...</td>\n",
              "      <td>Thu Feb 16 11:14:04 +0000 2017</td>\n",
              "      <td>International Cricket Council,Australia cricke...</td>\n",
              "      <td>With skill and appetite growing outside Test-p...</td>\n",
              "      <td>[0.6666666666000001, 0.33333333330000003, 0.33...</td>\n",
              "      <td>0.400000</td>\n",
              "      <td>no-clickbait</td>\n",
              "      <td>0.333333</td>\n",
              "      <td>0.333333</td>\n",
              "    </tr>\n",
              "    <tr>\n",
              "      <th>7893</th>\n",
              "      <td>7893</td>\n",
              "      <td>[]</td>\n",
              "      <td>Doctor accused of mutilating genitals of young...</td>\n",
              "      <td>856470650856382464</td>\n",
              "      <td>['FBI agents leave a clinic in Livonia, Mich.,...</td>\n",
              "      <td>['The attorney for a Detroit-area doctor accus...</td>\n",
              "      <td>Doctor accused of mutilating genitals of young...</td>\n",
              "      <td>Mon Apr 24 11:31:30 +0000 2017</td>\n",
              "      <td>genital mutilation, Michigan</td>\n",
              "      <td>The physician's attorney said the procedure wa...</td>\n",
              "      <td>[0.0, 0.0, 0.0, 0.33333333330000003, 0.3333333...</td>\n",
              "      <td>0.133333</td>\n",
              "      <td>no-clickbait</td>\n",
              "      <td>0.000000</td>\n",
              "      <td>0.000000</td>\n",
              "    </tr>\n",
              "    <tr>\n",
              "      <th>11371</th>\n",
              "      <td>11371</td>\n",
              "      <td>[]</td>\n",
              "      <td>Nigeria's starving children who fled Boko Haram</td>\n",
              "      <td>814169646857330688</td>\n",
              "      <td>[\"Nigeria's starving children\", 'Hundreds of t...</td>\n",
              "      <td>['Nigeria has been hit by the biggest humanita...</td>\n",
              "      <td>Nigeria's starving children who fled Boko Haram</td>\n",
              "      <td>Wed Dec 28 18:02:25 +0000 2016</td>\n",
              "      <td>NaN</td>\n",
              "      <td>Children could die of starvation in Nigeria un...</td>\n",
              "      <td>[0.33333333330000003, 0.6666666666000001, 0.66...</td>\n",
              "      <td>0.600000</td>\n",
              "      <td>clickbait</td>\n",
              "      <td>0.666667</td>\n",
              "      <td>0.666667</td>\n",
              "    </tr>\n",
              "  </tbody>\n",
              "</table>\n",
              "</div>\n",
              "      <button class=\"colab-df-convert\" onclick=\"convertToInteractive('df-400d4070-b74a-4f55-91fd-9652936dca70')\"\n",
              "              title=\"Convert this dataframe to an interactive table.\"\n",
              "              style=\"display:none;\">\n",
              "        \n",
              "  <svg xmlns=\"http://www.w3.org/2000/svg\" height=\"24px\"viewBox=\"0 0 24 24\"\n",
              "       width=\"24px\">\n",
              "    <path d=\"M0 0h24v24H0V0z\" fill=\"none\"/>\n",
              "    <path d=\"M18.56 5.44l.94 2.06.94-2.06 2.06-.94-2.06-.94-.94-2.06-.94 2.06-2.06.94zm-11 1L8.5 8.5l.94-2.06 2.06-.94-2.06-.94L8.5 2.5l-.94 2.06-2.06.94zm10 10l.94 2.06.94-2.06 2.06-.94-2.06-.94-.94-2.06-.94 2.06-2.06.94z\"/><path d=\"M17.41 7.96l-1.37-1.37c-.4-.4-.92-.59-1.43-.59-.52 0-1.04.2-1.43.59L10.3 9.45l-7.72 7.72c-.78.78-.78 2.05 0 2.83L4 21.41c.39.39.9.59 1.41.59.51 0 1.02-.2 1.41-.59l7.78-7.78 2.81-2.81c.8-.78.8-2.07 0-2.86zM5.41 20L4 18.59l7.72-7.72 1.47 1.35L5.41 20z\"/>\n",
              "  </svg>\n",
              "      </button>\n",
              "      \n",
              "  <style>\n",
              "    .colab-df-container {\n",
              "      display:flex;\n",
              "      flex-wrap:wrap;\n",
              "      gap: 12px;\n",
              "    }\n",
              "\n",
              "    .colab-df-convert {\n",
              "      background-color: #E8F0FE;\n",
              "      border: none;\n",
              "      border-radius: 50%;\n",
              "      cursor: pointer;\n",
              "      display: none;\n",
              "      fill: #1967D2;\n",
              "      height: 32px;\n",
              "      padding: 0 0 0 0;\n",
              "      width: 32px;\n",
              "    }\n",
              "\n",
              "    .colab-df-convert:hover {\n",
              "      background-color: #E2EBFA;\n",
              "      box-shadow: 0px 1px 2px rgba(60, 64, 67, 0.3), 0px 1px 3px 1px rgba(60, 64, 67, 0.15);\n",
              "      fill: #174EA6;\n",
              "    }\n",
              "\n",
              "    [theme=dark] .colab-df-convert {\n",
              "      background-color: #3B4455;\n",
              "      fill: #D2E3FC;\n",
              "    }\n",
              "\n",
              "    [theme=dark] .colab-df-convert:hover {\n",
              "      background-color: #434B5C;\n",
              "      box-shadow: 0px 1px 3px 1px rgba(0, 0, 0, 0.15);\n",
              "      filter: drop-shadow(0px 1px 2px rgba(0, 0, 0, 0.3));\n",
              "      fill: #FFFFFF;\n",
              "    }\n",
              "  </style>\n",
              "\n",
              "      <script>\n",
              "        const buttonEl =\n",
              "          document.querySelector('#df-400d4070-b74a-4f55-91fd-9652936dca70 button.colab-df-convert');\n",
              "        buttonEl.style.display =\n",
              "          google.colab.kernel.accessAllowed ? 'block' : 'none';\n",
              "\n",
              "        async function convertToInteractive(key) {\n",
              "          const element = document.querySelector('#df-400d4070-b74a-4f55-91fd-9652936dca70');\n",
              "          const dataTable =\n",
              "            await google.colab.kernel.invokeFunction('convertToInteractive',\n",
              "                                                     [key], {});\n",
              "          if (!dataTable) return;\n",
              "\n",
              "          const docLinkHtml = 'Like what you see? Visit the ' +\n",
              "            '<a target=\"_blank\" href=https://colab.research.google.com/notebooks/data_table.ipynb>data table notebook</a>'\n",
              "            + ' to learn more about interactive tables.';\n",
              "          element.innerHTML = '';\n",
              "          dataTable['output_type'] = 'display_data';\n",
              "          await google.colab.output.renderOutput(dataTable, element);\n",
              "          const docLink = document.createElement('div');\n",
              "          docLink.innerHTML = docLinkHtml;\n",
              "          element.appendChild(docLink);\n",
              "        }\n",
              "      </script>\n",
              "    </div>\n",
              "  </div>\n",
              "  "
            ]
          },
          "metadata": {},
          "execution_count": 6
        }
      ],
      "source": [
        "#Podemos ver una muestra del dataset de entrenamiento\n",
        "train_df.sample(5)"
      ]
    },
    {
      "cell_type": "markdown",
      "metadata": {
        "id": "TTU_EQ6StTeC"
      },
      "source": [
        "Comprobamos que no haya valores null en los campos que nos interesan"
      ]
    },
    {
      "cell_type": "code",
      "execution_count": null,
      "metadata": {
        "colab": {
          "base_uri": "https://localhost:8080/"
        },
        "id": "yN1Rj5IRgQjb",
        "outputId": "926c1f21-c689-4c4b-9674-258e83677546"
      },
      "outputs": [
        {
          "output_type": "execute_result",
          "data": {
            "text/plain": [
              "Unnamed: 0           False\n",
              "postMedia            False\n",
              "postText              True\n",
              "id                   False\n",
              "targetCaptions       False\n",
              "targetParagraphs     False\n",
              "targetTitle          False\n",
              "postTimestamp        False\n",
              "targetKeywords        True\n",
              "targetDescription     True\n",
              "truthJudgments       False\n",
              "truthMean            False\n",
              "truthClass           False\n",
              "truthMedian          False\n",
              "truthMode            False\n",
              "dtype: bool"
            ]
          },
          "metadata": {},
          "execution_count": 7
        }
      ],
      "source": [
        "train_df.isnull().any()"
      ]
    },
    {
      "cell_type": "code",
      "execution_count": null,
      "metadata": {
        "colab": {
          "base_uri": "https://localhost:8080/"
        },
        "id": "dxz8HNwiwOQ1",
        "outputId": "e1c8eb8e-8204-4b15-9c7e-8f0d0811489d"
      },
      "outputs": [
        {
          "output_type": "execute_result",
          "data": {
            "text/plain": [
              "Unnamed: 0           False\n",
              "id                   False\n",
              "postMedia            False\n",
              "targetCaptions       False\n",
              "postText              True\n",
              "postTimestamp        False\n",
              "targetTitle          False\n",
              "targetDescription     True\n",
              "targetKeywords        True\n",
              "targetParagraphs     False\n",
              "truthJudgments       False\n",
              "truthClass           False\n",
              "truthMedian          False\n",
              "truthMode            False\n",
              "truthMean            False\n",
              "dtype: bool"
            ]
          },
          "metadata": {},
          "execution_count": 8
        }
      ],
      "source": [
        "test_df.isnull().any()"
      ]
    },
    {
      "cell_type": "markdown",
      "metadata": {
        "id": "QJddFGY5tcsF"
      },
      "source": [
        "Puesto que la columna de texto que nos interesa tiene valores Null, debemos eliminarlos para que no nos de problemas a la hora de entrenar el modelo\n",
        "\n"
      ]
    },
    {
      "cell_type": "code",
      "execution_count": null,
      "metadata": {
        "id": "8wMh1rLmtbyN"
      },
      "outputs": [],
      "source": [
        "train_df = train_df.dropna(how='any',subset=['postText', 'truthClass'], axis=0)\n",
        "test_df = test_df.dropna(how='any',subset=['postText', 'truthClass'], axis=0)"
      ]
    },
    {
      "cell_type": "code",
      "execution_count": null,
      "metadata": {
        "id": "RhP9XZqiKMYE"
      },
      "outputs": [],
      "source": [
        "#Cambiamos los valores de 'truthClass' a valores 1 o 0 en funcion de si es un clickbait o no\n",
        "#En el conjunto de entrenamiento\n",
        "train_df['truthClass'] = train_df['truthClass'].apply(lambda x: 1 if x=='clickbait' else 0 )\n",
        "train_df.rename(columns={'truthClass':'target'}, inplace=True)\n",
        "#En el conjunto de test\n",
        "test_df['truthClass'] = test_df['truthClass'].apply(lambda x: 1 if x=='clickbait' else 0 )\n",
        "test_df.rename(columns={'truthClass':'target'}, inplace=True)"
      ]
    },
    {
      "cell_type": "code",
      "execution_count": null,
      "metadata": {
        "colab": {
          "base_uri": "https://localhost:8080/"
        },
        "id": "z_AbqmgYJ0S_",
        "outputId": "34a491f5-6b17-444d-dc1e-2d01f04ca456"
      },
      "outputs": [
        {
          "output_type": "execute_result",
          "data": {
            "text/plain": [
              "0    14768\n",
              "1     4716\n",
              "Name: target, dtype: int64"
            ]
          },
          "metadata": {},
          "execution_count": 11
        }
      ],
      "source": [
        "#contamos  cuantos ejemplos del dataset de entrenamiento contienen un clickbait y cuantos no\n",
        "train_df['target'].value_counts()"
      ]
    },
    {
      "cell_type": "markdown",
      "metadata": {
        "id": "OZPv9DR-KA_-"
      },
      "source": [
        "\n",
        "\n",
        "> # Análisis de las muestras\n",
        "\n",
        "\n",
        "Un 33% de los valores son clickbait. Implica un desbalanceo entre las clases que podría conducir a un alto sesgo durante el entrenamiento del modelo. Para evitar esto vamos a intentar balancear los datos, eliminando elementos que contengan 'no-clickbait' hasta que igualen a los de 'clikbait'. \n",
        "Además, por motivos de limitaciones computacionales y de tiempo, la reducción del conjunto de entrenamiento agiliza las pruebas, si bien podría conducir a un problema de alta varianza por falta de datos. Cabe destacar que se realizó una prueba con el primer algoritmo, y pese a que las métricas accuracy y presicion eran relativamente buenas, la métrica de recall dejaba bastante que desear. A continuación podemos ver los resultados de la última de 6 iteraciones:\n",
        "\n",
        "Esto nos indica que el modelo está prediciendo con cierto sesgo hacia 'no clickbait'. "
      ]
    },
    {
      "cell_type": "code",
      "execution_count": null,
      "metadata": {
        "id": "0_Aj1cxN5GwO"
      },
      "outputs": [],
      "source": [
        "df_clickbait = train_df[train_df['target']==1]\n",
        "df_noclickbait = train_df[train_df['target']==0]\n",
        "\n",
        "df_noclickbait_downsampled=df_noclickbait.sample(df_clickbait.shape[0])\n",
        "\n",
        "train_df = pd.concat([df_noclickbait_downsampled, df_clickbait])\n",
        "# train_df=train_df.sample(8000)#Reducimos el tamaño del dataset por motivos computacionales\n",
        "del df_clickbait, df_noclickbait, df_noclickbait_downsampled"
      ]
    },
    {
      "cell_type": "code",
      "execution_count": null,
      "metadata": {
        "colab": {
          "base_uri": "https://localhost:8080/"
        },
        "id": "KhowUV4p6QA6",
        "outputId": "663a094d-e558-47bb-853e-8a9302094511"
      },
      "outputs": [
        {
          "output_type": "execute_result",
          "data": {
            "text/plain": [
              "0    4716\n",
              "1    4716\n",
              "Name: target, dtype: int64"
            ]
          },
          "metadata": {},
          "execution_count": 13
        }
      ],
      "source": [
        "train_df['target'].value_counts()"
      ]
    },
    {
      "cell_type": "markdown",
      "metadata": {
        "id": "dgIOh4sCIBHj"
      },
      "source": [
        "Dividimos el dataset en train y validation, en una relacion 80/20, para poder representar las curvas de aprendizaje y comparar como se comporta el modelo en el entrenamiento y cómo es capaza de generalizar a nuevos ejemplos, y su evolución con el número de iteraciones."
      ]
    },
    {
      "cell_type": "code",
      "execution_count": null,
      "metadata": {
        "id": "bhbG9voVQpSS"
      },
      "outputs": [],
      "source": [
        "X_train, X_val, y_train, y_val = train_test_split(train_df['postText'],train_df['target'], train_size=0.8)\n",
        "del train_df"
      ]
    },
    {
      "cell_type": "markdown",
      "metadata": {
        "id": "1Ua7lSCjuCcn"
      },
      "source": [
        "Vamos a extraer del conjunto de test las columnas que nos interesan, y en el mismo formato que los de entrenamiento:"
      ]
    },
    {
      "cell_type": "code",
      "execution_count": null,
      "metadata": {
        "id": "U6vsQtFkuKwS"
      },
      "outputs": [],
      "source": [
        "X_test = test_df['postText']\n",
        "y_test = test_df['target']\n",
        "\n",
        "del test_df"
      ]
    },
    {
      "cell_type": "markdown",
      "metadata": {
        "id": "pRXI-WhYjcIt"
      },
      "source": [
        "# Modelos a utilizar:\n",
        "\n",
        "Utilizaremos tres modelos:\n",
        "\n",
        "\n",
        "*   Un modelo BERT sencillo, llamado Small BERT\n",
        "*   ELECTRA base\n",
        "*   Un baseline sencillo para comparar los resultados obtenidos\n",
        "\n",
        "\n",
        "\n",
        "\n",
        "> # Small BERT\n",
        "\n",
        "Se trata de un modelo basado en BERT original, pero con menos bloques Transformer y/o más pequeños.\n",
        "\n",
        "Utilizaremos el modelo Small BERT con configuración L12, H738, A12\n",
        "\n",
        "\n",
        "\n"
      ]
    },
    {
      "cell_type": "code",
      "execution_count": null,
      "metadata": {
        "id": "TpUeVeYlRQg1"
      },
      "outputs": [],
      "source": [
        "smallBERT_preprocess_handle = hub.KerasLayer('https://tfhub.dev/tensorflow/bert_en_uncased_preprocess/3')\n",
        "smallBERT_encoder_handle = hub.KerasLayer('https://tfhub.dev/tensorflow/small_bert/bert_en_uncased_L-12_H-768_A-12/1', trainable=True)\n"
      ]
    },
    {
      "cell_type": "markdown",
      "metadata": {
        "id": "Kxv3m_XiSg_w"
      },
      "source": [
        " > > > # Modelo de preprocesado\n",
        "\n",
        "\n",
        "Las entradas de texto deben ser transformadas a tokens numericoas y agrupados en tensores antes de ser entradas de BERT. TensorFlow Hub facilita un modelo de preprocesamiento para cada modelo BERT por lo que no es necesario correr codigo de Python especifico fura del modelo de TensorFlow para preprocesar el texto.\n",
        "\n",
        "Del preprocesado hay tres salidas principales, que serán las utilizadas por el modelo BERT: ,  e \n",
        "\n",
        "\n",
        "*  input_words_id: simplemente el identificador de frase\n",
        "*  input_mask: para indicar al modelo BERT qué tokens corresponden a padding.\n",
        "*  input_type_ids: los tokens en que se ha transformado el texto de entrada\n",
        "\n",
        "\n",
        "\n",
        "\n",
        "\n",
        "\n",
        "> > > # Modelo BERT\n",
        "\n",
        "Los modelos BERT devuelven un map con 3 keys importantes: pooled_output, sequence_output y encoder_outputs:\n",
        "\n",
        "\n",
        "*   pooled_output representa cada frase de entrada como un conjunto. Las dimensiones son [batch_size, H].\n",
        "\n",
        "\n",
        "*   sequence_output representa cada token de entrada en el contexto. Las dimensiones son [batch_size, seq_length, H].\n",
        "\n",
        "\n",
        "*   encoder_outputs son las activaciones intermedias de los L bloques Transformer.\n",
        "\n",
        "Para el fine-tunning se utiliza el array pooled_output\n",
        "\n",
        "> > > # Definicion del modelo\n",
        "\n",
        "El modelo utilizado es sencillo:  el preprocesado, el modelo Small BERT, una capa Dropout y una capa Dense.\n",
        "\n",
        "![image.png](data:image/png;base64,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)\n"
      ]
    },
    {
      "cell_type": "code",
      "execution_count": null,
      "metadata": {
        "id": "nj_SvrRwSmpb"
      },
      "outputs": [],
      "source": [
        "#Crearemos una función que construya el modelo a apartir de las url del modulo de preprocesado y del modulo BERT empleado\n",
        "def build_classifier_model(preprocess_handle, encoder_handle):\n",
        "  text_input = tf.keras.layers.Input(shape=(), dtype=tf.string, name='text')\n",
        "  preprocessing_layer = hub.KerasLayer(preprocess_handle, name='preprocessing')\n",
        "  encoder_inputs = preprocessing_layer(text_input)\n",
        "  encoder = hub.KerasLayer(encoder_handle, trainable = True, name='encoder')\n",
        "  outputs = encoder(encoder_inputs)\n",
        "  net=outputs['pooled_output']\n",
        "  net = tf.keras.layers.Dropout(0.1)(net)\n",
        "  net = tf.keras.layers.Dense(1, activation='sigmoid', name='classifier')(net)\n",
        "  return tf.keras.Model(text_input, net)\n"
      ]
    },
    {
      "cell_type": "markdown",
      "metadata": {
        "id": "iJYTcD3GpGwR"
      },
      "source": [
        "Vamos a echar un vistazo al esquema del modelo\n",
        "\n"
      ]
    },
    {
      "cell_type": "code",
      "execution_count": null,
      "metadata": {
        "id": "mevMiGNLpC-f"
      },
      "outputs": [],
      "source": [
        "smallBERT_classifier_model = build_classifier_model(smallBERT_preprocess_handle , smallBERT_encoder_handle)\n",
        "del smallBERT_preprocess_handle, smallBERT_encoder_handle"
      ]
    },
    {
      "cell_type": "code",
      "execution_count": null,
      "metadata": {
        "id": "Ifpxxib1pfJO"
      },
      "outputs": [],
      "source": [
        "tf.keras.utils.plot_model(smallBERT_classifier_model)"
      ]
    },
    {
      "cell_type": "code",
      "execution_count": null,
      "metadata": {
        "id": "aEy1NEXJpkX7"
      },
      "outputs": [],
      "source": [
        "smallBERT_classifier_model.summary()"
      ]
    },
    {
      "cell_type": "markdown",
      "metadata": {
        "id": "oOZau3f4UEuE"
      },
      "source": [
        "> > > # Función de pérdidas, optimizador y metricas\n",
        "\n",
        "Dado que se trata de un problema de clasificacion binaria, y la salida del modelo es una probabilidad (es una capa con una única unidad), utilizaremos la funcion de costes losses.BinaryCrossentropy:\n",
        "\n"
      ]
    },
    {
      "cell_type": "code",
      "execution_count": null,
      "metadata": {
        "id": "KtvCbsK7qnq0"
      },
      "outputs": [],
      "source": [
        "loss = tf.keras.losses.BinaryCrossentropy()"
      ]
    },
    {
      "cell_type": "markdown",
      "metadata": {
        "id": "w31UDpO2qz-E"
      },
      "source": [
        "Las métricas que utilizaremos son :\n",
        "\n",
        "*   Accuracy: mide la frecuencia con la que la predicción coincide con el valor real. Sin embargo, cuando las clases estan desbalanceads esta métrica puede llevar a error\n",
        "*   Precission: del conjunto de ejemplos clasificados como 'clickbait', indica cuántos realmente lo son.\n",
        "*   Recall: del conjunto real de ejemplos clasificados 'clickbait', nos indica cuántos fueron detectados. "
      ]
    },
    {
      "cell_type": "code",
      "execution_count": null,
      "metadata": {
        "id": "p3YjM6UKq0tc"
      },
      "outputs": [],
      "source": [
        "METRICS = [\n",
        "           tf.keras.metrics.BinaryAccuracy(name='accuracy'),\n",
        "           tf.keras.metrics.Precision(name='precission'),\n",
        "           tf.keras.metrics.Recall(name='recall')\n",
        "]"
      ]
    },
    {
      "cell_type": "markdown",
      "metadata": {
        "id": "Ypjlbzdeq4rD"
      },
      "source": [
        "Para el fine-tunning utilizaremos el mismo optimizador Adamw, que minimiza la perdida de la prediccion y emplea regularización mediante disminucion de pesos (no emplea momentos), que se conoce como AdamW.\n",
        "\n",
        "Para la tasa de aprendizaje (init_lr) emplearemos el mismo esquema que en el pre-entrenamiento de BERT: disminucion linear de una tasa inicial, prefijada con una fase de calentamiento linear sobre el 10% de los pasos de entrenamiento(num_warmup_steps). De acuerdo con el paper de BERT, la tasa de aprendizaje inicial debe ser más pequeña para el fine-tunning( mejor de 5e-5, 3e-5, 2e-5)"
      ]
    },
    {
      "cell_type": "code",
      "execution_count": null,
      "metadata": {
        "id": "rz5t3kY_q-Nb"
      },
      "outputs": [],
      "source": [
        "epochs = 10 #numero de epochs inicialmente 1\n",
        "batch_size=32 #tamaño de batch \n",
        "steps_per_epoch = len(X_train)/batch_size #Definimos el número de pasos \n",
        "num_train_steps = steps_per_epoch * epochs #Numero de pasos de entrenamiento\n",
        "num_warmup_steps = int(0.1*num_train_steps) #Numero de pasos de calentamiento\n",
        "\n",
        "#Tasa de aprendizaje inicial\n",
        "init_lr = 5e-5\n",
        "\n",
        "optimizer = optimization.create_optimizer(init_lr = init_lr,\n",
        "                                          num_train_steps=num_train_steps,\n",
        "                                          num_warmup_steps=num_warmup_steps,\n",
        "                                          optimizer_type='adamw')"
      ]
    },
    {
      "cell_type": "markdown",
      "metadata": {
        "id": "-97S-8h_rgxA"
      },
      "source": [
        "> > > # Compilando el modelo y fine-tunning\n",
        "\n",
        "A continuación, compilamos el modelo definido anteriormente. \n",
        "\n"
      ]
    },
    {
      "cell_type": "code",
      "execution_count": null,
      "metadata": {
        "id": "4XCWztPgrgFI"
      },
      "outputs": [],
      "source": [
        "smallBERT_classifier_model.compile(optimizer= optimizer,\n",
        "                                   loss=loss,\n",
        "                                   metrics = METRICS)"
      ]
    },
    {
      "cell_type": "markdown",
      "metadata": {
        "id": "XxFa_uoQr3qr"
      },
      "source": [
        "Y realizamos el fine-tunning. Por limitaciones computacionales y de tiempo, reduciremos el numero de epochs a 10, si bien este numero debería ser bastante mayor. "
      ]
    }
  ]
}